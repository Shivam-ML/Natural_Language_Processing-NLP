{
 "cells": [
  {
   "cell_type": "code",
   "execution_count": 1,
   "metadata": {
    "collapsed": true
   },
   "outputs": [],
   "source": [
    "import nltk"
   ]
  },
  {
   "cell_type": "code",
   "execution_count": 2,
   "metadata": {
    "collapsed": true
   },
   "outputs": [],
   "source": [
    "s=\"he announcements came just in time as the market was reeling under tremendous pressure, citing weak domestic sentiment and not so encouraging global markets. On the benchmark front, Nifty should hold above 11,250 to carry this momentum else profit-taking may resume. We suggest being selective at current levels as participation would restrict largely to the quality names\""
   ]
  },
  {
   "cell_type": "code",
   "execution_count": null,
   "metadata": {
    "collapsed": true
   },
   "outputs": [],
   "source": [
    "syntax"
   ]
  },
  {
   "cell_type": "code",
   "execution_count": 3,
   "metadata": {
    "collapsed": true
   },
   "outputs": [],
   "source": [
    "#nltk.download('all')"
   ]
  },
  {
   "cell_type": "code",
   "execution_count": 4,
   "metadata": {
    "collapsed": true
   },
   "outputs": [],
   "source": [
    "# Create function for Ngrams\n",
    "\n"
   ]
  },
  {
   "cell_type": "code",
   "execution_count": 9,
   "metadata": {},
   "outputs": [
    {
     "data": {
      "text/plain": [
       "['he',\n",
       " 'announcements',\n",
       " 'came',\n",
       " 'just',\n",
       " 'in',\n",
       " 'time',\n",
       " 'as',\n",
       " 'the',\n",
       " 'market',\n",
       " 'was',\n",
       " 'reeling',\n",
       " 'under',\n",
       " 'tremendous',\n",
       " 'pressure',\n",
       " 'citing',\n",
       " 'weak',\n",
       " 'domestic',\n",
       " 'sentiment',\n",
       " 'and',\n",
       " 'not',\n",
       " 'so',\n",
       " 'encouraging',\n",
       " 'global',\n",
       " 'markets',\n",
       " 'on',\n",
       " 'the',\n",
       " 'benchmark',\n",
       " 'front',\n",
       " 'nifty',\n",
       " 'should',\n",
       " 'hold',\n",
       " 'above',\n",
       " '11250',\n",
       " 'to',\n",
       " 'carry',\n",
       " 'this',\n",
       " 'momentum',\n",
       " 'else',\n",
       " 'profittaking',\n",
       " 'may',\n",
       " 'resume',\n",
       " 'we',\n",
       " 'suggest',\n",
       " 'being',\n",
       " 'selective',\n",
       " 'at',\n",
       " 'current',\n",
       " 'levels',\n",
       " 'as',\n",
       " 'participation',\n",
       " 'would',\n",
       " 'restrict',\n",
       " 'largely',\n",
       " 'to',\n",
       " 'the',\n",
       " 'quality',\n",
       " 'names']"
      ]
     },
     "execution_count": 9,
     "metadata": {},
     "output_type": "execute_result"
    }
   ],
   "source": [
    "from nltk.util import ngrams\n",
    "import re\n",
    "s=s.lower()\n",
    "s=re.sub(r'[^a-zA-Z0-9\\s]','',s)\n",
    "tokens = [token for token in s.split(' ')]\n",
    "tokens"
   ]
  },
  {
   "cell_type": "code",
   "execution_count": 12,
   "metadata": {},
   "outputs": [
    {
     "data": {
      "text/plain": [
       "['My', 'name', 'is', 'Shivam']"
      ]
     },
     "execution_count": 12,
     "metadata": {},
     "output_type": "execute_result"
    }
   ],
   "source": [
    "sentence = \"My name is Shivam\"\n",
    "token=nltk.word_tokenize(sentence)\n",
    "token"
   ]
  },
  {
   "cell_type": "code",
   "execution_count": 13,
   "metadata": {},
   "outputs": [
    {
     "data": {
      "text/plain": [
       "[('My', 'PRP$'), ('name', 'NN'), ('is', 'VBZ'), ('Shivam', 'NNP')]"
      ]
     },
     "execution_count": 13,
     "metadata": {},
     "output_type": "execute_result"
    }
   ],
   "source": [
    "token=nltk.word_tokenize(sentence)\n",
    "nltk.pos_tag(token)"
   ]
  },
  {
   "cell_type": "code",
   "execution_count": 14,
   "metadata": {},
   "outputs": [
    {
     "name": "stdout",
     "output_type": "stream",
     "text": [
      "NNP: noun, proper, singular\n",
      "    Motown Venneboerger Czestochwa Ranzer Conchita Trumplane Christos\n",
      "    Oceanside Escobar Kreisler Sawyer Cougar Yvette Ervin ODI Darryl CTCA\n",
      "    Shannon A.K.C. Meltex Liverpool ...\n"
     ]
    }
   ],
   "source": [
    "nltk.help.upenn_tagset(\"NNP\")"
   ]
  },
  {
   "cell_type": "code",
   "execution_count": 15,
   "metadata": {},
   "outputs": [
    {
     "name": "stdout",
     "output_type": "stream",
     "text": [
      "PRP$: pronoun, possessive\n",
      "    her his mine my our ours their thy your\n"
     ]
    }
   ],
   "source": [
    "nltk.help.upenn_tagset(\"PRP$\")"
   ]
  },
  {
   "cell_type": "code",
   "execution_count": 16,
   "metadata": {
    "collapsed": true
   },
   "outputs": [],
   "source": [
    "sentence =\"he announcements came just in time as the market was reeling under tremendous pressure, citing weak domestic sentiment and not so encouraging global markets. On the benchmark front\"\n"
   ]
  },
  {
   "cell_type": "code",
   "execution_count": 18,
   "metadata": {},
   "outputs": [
    {
     "data": {
      "text/plain": [
       "[('My', 'PRP$'),\n",
       " ('name', 'NN'),\n",
       " ('is', 'VBZ'),\n",
       " ('shivam', 'JJ'),\n",
       " (',', ','),\n",
       " ('I', 'PRP'),\n",
       " ('am', 'VBP'),\n",
       " ('good', 'JJ'),\n",
       " ('boy', 'NN')]"
      ]
     },
     "execution_count": 18,
     "metadata": {},
     "output_type": "execute_result"
    }
   ],
   "source": [
    "sentence=\"My name is shivam, I am good boy\"\n",
    "def preprocess(sentence):\n",
    "    sentence = nltk.word_tokenize(sentence)\n",
    "    sentence=nltk.pos_tag(sentence)\n",
    "    return sentence\n",
    "\n",
    "sent = preprocess(sentence)\n",
    "sent"
   ]
  },
  {
   "cell_type": "code",
   "execution_count": 19,
   "metadata": {
    "collapsed": true
   },
   "outputs": [],
   "source": [
    "# creating persing tree\n",
    "pattern = 'NP: {<DT>?<JJ>*<NN>}'"
   ]
  },
  {
   "cell_type": "code",
   "execution_count": 20,
   "metadata": {
    "collapsed": true
   },
   "outputs": [],
   "source": [
    "cp = nltk.RegexpParser(pattern)\n",
    "cs = cp.parse(sent)\n"
   ]
  },
  {
   "cell_type": "code",
   "execution_count": 21,
   "metadata": {
    "collapsed": true
   },
   "outputs": [],
   "source": [
    "cs.__repr__()        # use this method to print\n",
    "cs.draw()            # this will draw yor tree"
   ]
  },
  {
   "cell_type": "code",
   "execution_count": 1,
   "metadata": {},
   "outputs": [
    {
     "data": {
      "text/plain": [
       "\"Tree('S', [Tree('PERSON', [('Elon', 'NNP')]), Tree('ORGANIZATION', [('Musk', 'NNP')]), ('is', 'VBZ'), ('a', 'DT'), ('technology', 'NN'), ('entrepreneur', 'NN'), (',', ','), ('investor', 'NN'), (',', ','), ('and', 'CC'), ('engineer', 'NN'), ('.', '.'), ('He', 'PRP'), ('proposed', 'VBD'), ('an', 'DT'), ('orbiting', 'VBG'), ('digital', 'JJ'), ('communication', 'NN'), ('that', 'WDT'), ('would', 'MD'), ('eventuall', 'VB'), ('consist', 'NN'), ('of', 'IN'), ('4,800', 'CD'), ('satellites', 'NNS'), ('.', '.')])\""
      ]
     },
     "execution_count": 1,
     "metadata": {},
     "output_type": "execute_result"
    }
   ],
   "source": [
    "from nltk import word_tokenize, pos_tag, ne_chunk\n",
    "sentence = \"Elon Musk is a technology entrepreneur, investor, and engineer. He proposed an orbiting digital communication that would eventuall consist of 4,800 satellites.\"\n",
    "\n",
    "ne_chunk(pos_tag(word_tokenize(sentence))).__repr__()"
   ]
  },
  {
   "cell_type": "code",
   "execution_count": null,
   "metadata": {
    "collapsed": true
   },
   "outputs": [],
   "source": []
  },
  {
   "cell_type": "code",
   "execution_count": null,
   "metadata": {
    "collapsed": true
   },
   "outputs": [],
   "source": [
    "! pip install spacy\n",
    "!python -m spacy download en"
   ]
  },
  {
   "cell_type": "code",
   "execution_count": 22,
   "metadata": {
    "collapsed": true
   },
   "outputs": [],
   "source": [
    "from nltk.stem.porter import PorterStemmer"
   ]
  },
  {
   "cell_type": "code",
   "execution_count": 23,
   "metadata": {},
   "outputs": [
    {
     "data": {
      "text/plain": [
       "'help'"
      ]
     },
     "execution_count": 23,
     "metadata": {},
     "output_type": "execute_result"
    }
   ],
   "source": [
    "porter_stemer = PorterStemmer()\n",
    "porter_stemer.stem('helping')"
   ]
  },
  {
   "cell_type": "code",
   "execution_count": null,
   "metadata": {
    "collapsed": true
   },
   "outputs": [],
   "source": []
  },
  {
   "cell_type": "code",
   "execution_count": 24,
   "metadata": {},
   "outputs": [
    {
     "data": {
      "text/plain": [
       "'Machines'"
      ]
     },
     "execution_count": 24,
     "metadata": {},
     "output_type": "execute_result"
    }
   ],
   "source": [
    "from nltk.stem import WordNetLemmatizer\n",
    "lm=WordNetLemmatizer()\n",
    "lm.lemmatize(\"Machines\")"
   ]
  },
  {
   "cell_type": "code",
   "execution_count": null,
   "metadata": {
    "collapsed": true
   },
   "outputs": [],
   "source": []
  }
 ],
 "metadata": {
  "kernelspec": {
   "display_name": "Python 3",
   "language": "python",
   "name": "python3"
  },
  "language_info": {
   "codemirror_mode": {
    "name": "ipython",
    "version": 3
   },
   "file_extension": ".py",
   "mimetype": "text/x-python",
   "name": "python",
   "nbconvert_exporter": "python",
   "pygments_lexer": "ipython3",
   "version": "3.6.3"
  }
 },
 "nbformat": 4,
 "nbformat_minor": 2
}
